{
 "cells": [
  {
   "cell_type": "markdown",
   "id": "48c5eb2d",
   "metadata": {},
   "source": [
    "# GRIP @ THE SPARKS FOUNDATION\n",
    "<font size=\"3\">DATA SCIENCE AND BUSINESS ANALYTICS INTERNSHIP (AUG21)</font>\n",
    "\n",
    "<font size=\"3\">Author : Tanmay M Gadre</font>\n",
    "\n",
    "<font size=\"3\">Task 4: Exploratory Data Analysis-Terrorism</font>\n",
    "#### Performing ‘Exploratory Data Analysis’ on dataset ‘globalterrorismdb’.And we will try to find out the hot zone of terrorism."
   ]
  },
  {
   "cell_type": "markdown",
   "id": "ddf1fd62",
   "metadata": {},
   "source": [
    "## Task4: Exploratory Data Analysis - Terrorism\n",
    "<font size=\"3\"> Performing  Exploratory Data Analysis on dataset 'globalterrorismdb'.\n",
    "Here we'll find the hotspots, the number of people killed, terrorist organisation responsible for most of them and much more. </font>"
   ]
  },
  {
   "cell_type": "markdown",
   "id": "92170c4e",
   "metadata": {},
   "source": [
    "<font size=\"3\">This EDA is divided into 3 Sections, namely, **Importing Data**, **Performing EDA**, **Conclusions and Results**.</font>"
   ]
  },
  {
   "cell_type": "markdown",
   "id": "0e46e1a8",
   "metadata": {},
   "source": [
    "## Section 1: Importing required libraries"
   ]
  },
  {
   "cell_type": "code",
   "execution_count": 1,
   "id": "a9c0cd30",
   "metadata": {},
   "outputs": [],
   "source": [
    "import warnings\n",
    "import numpy as np\n",
    "import pandas as pd\n",
    "import seaborn as sns\n",
    "import matplotlib.pyplot as plt\n",
    "warnings.filterwarnings(\"ignore\")"
   ]
  },
  {
   "cell_type": "markdown",
   "id": "b9f06af9",
   "metadata": {},
   "source": [
    "### Reading the provided dataset"
   ]
  },
  {
   "cell_type": "code",
   "execution_count": null,
   "id": "1edab8ca",
   "metadata": {
    "scrolled": false
   },
   "outputs": [],
   "source": [
    "#fetching data for EDA\n",
    "df = pd.read_csv(\"C:/Users/Tanmay Gadre/Downloads/Global Terrorism - START data/globalterrorismdb.csv\", encoding='latin1')\n",
    "df.head(5) #used to get the first 5 rows"
   ]
  },
  {
   "cell_type": "markdown",
   "id": "fdeae564",
   "metadata": {},
   "source": [
    "### Cleaning and comprehending the data"
   ]
  },
  {
   "cell_type": "code",
   "execution_count": null,
   "id": "59bf31b5",
   "metadata": {
    "scrolled": true
   },
   "outputs": [],
   "source": [
    "# getting information about the data \n",
    "df.info()"
   ]
  },
  {
   "cell_type": "code",
   "execution_count": null,
   "id": "a48e53bb",
   "metadata": {},
   "outputs": [],
   "source": [
    "df.shape"
   ]
  },
  {
   "cell_type": "code",
   "execution_count": null,
   "id": "7c2af8fb",
   "metadata": {},
   "outputs": [],
   "source": [
    "df.columns.values"
   ]
  },
  {
   "cell_type": "code",
   "execution_count": null,
   "id": "b7a55d75",
   "metadata": {
    "scrolled": true
   },
   "outputs": [],
   "source": [
    "df.describe() # this is to read a concise summary of the data"
   ]
  },
  {
   "cell_type": "markdown",
   "id": "6d9f60a7",
   "metadata": {},
   "source": [
    "### Cleaning the provided dataset"
   ]
  },
  {
   "cell_type": "code",
   "execution_count": null,
   "id": "5856eb9b",
   "metadata": {},
   "outputs": [],
   "source": [
    "df.isnull().sum() #to check if there are any null values and to count them from the dataset"
   ]
  },
  {
   "cell_type": "code",
   "execution_count": null,
   "id": "42ba70f5",
   "metadata": {},
   "outputs": [],
   "source": [
    "df[\"nwound\"] = df[\"nwound\"].fillna(0)\n",
    "df[\"nkill\"] = df[\"nkill\"].fillna(0)"
   ]
  },
  {
   "cell_type": "code",
   "execution_count": null,
   "id": "547edd8d",
   "metadata": {},
   "outputs": [],
   "source": [
    "df[\"Casualities\"] = df[\"nkill\"] + df[\"nwound\"]"
   ]
  },
  {
   "cell_type": "code",
   "execution_count": null,
   "id": "7b13e446",
   "metadata": {},
   "outputs": [],
   "source": [
    "df['city'] = df['city'].replace(['Unknown'],'Baghdad')\n",
    "df"
   ]
  },
  {
   "cell_type": "code",
   "execution_count": null,
   "id": "4ece7ff5",
   "metadata": {},
   "outputs": [],
   "source": [
    "df.rename(columns={'iyear':'Year','imonth':'Month','iday':\"day\",'gname':'Group','country_txt':'Country','region_txt':'Region','provstate':'State','city':'City','latitude':'latitude',\n",
    "    'longitude':'longitude','summary':'summary','attacktype1_txt':'Attacktype','targtype1_txt':'Targettype','weaptype1_txt':'Weapon','nkill':'kill',\n",
    "     'nwound':'Wound'},inplace=True)"
   ]
  },
  {
   "cell_type": "code",
   "execution_count": null,
   "id": "553b239b",
   "metadata": {},
   "outputs": [],
   "source": [
    "df = df[['Year','Month','day','Country','State','Region','City','latitude','longitude','Attacktype','kill','Wound','target1','summary','Group','Targettype','Weapon','motive']]"
   ]
  },
  {
   "cell_type": "code",
   "execution_count": null,
   "id": "fac27b0d",
   "metadata": {},
   "outputs": [],
   "source": [
    "df.to_csv('cleaned_dataset.csv', index=False)"
   ]
  },
  {
   "cell_type": "code",
   "execution_count": null,
   "id": "110a6e60",
   "metadata": {},
   "outputs": [],
   "source": [
    "df.head()"
   ]
  },
  {
   "cell_type": "code",
   "execution_count": null,
   "id": "d3c80291",
   "metadata": {},
   "outputs": [],
   "source": [
    "df.shape"
   ]
  },
  {
   "cell_type": "markdown",
   "id": "fcc9caab",
   "metadata": {},
   "source": [
    "## Section 2: Exploratory Data Analysis"
   ]
  },
  {
   "cell_type": "code",
   "execution_count": null,
   "id": "364d7e07",
   "metadata": {},
   "outputs": [],
   "source": [
    "#Terror Attacks In Years\n",
    "year = df['Year'].unique()\n",
    "years_count = df['Year'].value_counts(dropna = False).sort_index()\n",
    "plt.figure(figsize = (18,10))\n",
    "sns.barplot(x = year,\n",
    "           y = years_count,\n",
    "           palette = \"tab10\")\n",
    "plt.xticks(rotation = 50)\n",
    "plt.xlabel('Attacking Year',fontsize=20)\n",
    "plt.ylabel('Number of Attacks Each Year',fontsize=20)\n",
    "plt.title('Attacks In Years',fontsize=30)\n",
    "plt.show()"
   ]
  },
  {
   "cell_type": "markdown",
   "id": "1c4e6d82",
   "metadata": {},
   "source": [
    "Conclusion from above bar graph:\n",
    "\n",
    "1. Maximum number of attacks were in 2014\n",
    "2. Minimum number of attacks were in 1971"
   ]
  },
  {
   "cell_type": "code",
   "execution_count": null,
   "id": "a1f040f8",
   "metadata": {},
   "outputs": [],
   "source": [
    "#Terrorist attacks region-wise and year-wise\n",
    "pd.crosstab(df.Year, df.Region).plot(kind='area',stacked=False,figsize=(20,10))\n",
    "plt.title('Terrorist Activities By Region In Each Year',fontsize=25)\n",
    "plt.ylabel('Number of Attacks',fontsize=20)\n",
    "plt.xlabel(\"Year\",fontsize=20)\n",
    "plt.show()"
   ]
  },
  {
   "cell_type": "markdown",
   "id": "2ef3eb60",
   "metadata": {},
   "source": [
    "From the graph its clearly visible that maximum number of attacks took place in Middle East & North African regions."
   ]
  },
  {
   "cell_type": "code",
   "execution_count": null,
   "id": "1819c4a4",
   "metadata": {},
   "outputs": [],
   "source": [
    "attackAreas = df.Country.value_counts()[:10]\n",
    "attackAreas"
   ]
  },
  {
   "cell_type": "code",
   "execution_count": null,
   "id": "525e21b4",
   "metadata": {},
   "outputs": [],
   "source": [
    "df.Group.value_counts()[:10]"
   ]
  },
  {
   "cell_type": "code",
   "execution_count": null,
   "id": "48537c81",
   "metadata": {},
   "outputs": [],
   "source": [
    "plt.subplots(figsize=(20,10))\n",
    "sns.barplot(df['Country'].value_counts()[:10].index,df['Country'].value_counts()[:10].values,palette='YlOrBr_r')\n",
    "plt.title('Top Countries Affected')\n",
    "plt.xlabel('Countries')\n",
    "plt.ylabel('Count')\n",
    "plt.xticks(rotation = 50)\n",
    "plt.show()"
   ]
  },
  {
   "cell_type": "markdown",
   "id": "c75c3395",
   "metadata": {},
   "source": [
    "From the graph we can say, Iraq is the most affected region while Turkey the least"
   ]
  },
  {
   "cell_type": "code",
   "execution_count": null,
   "id": "c197115a",
   "metadata": {},
   "outputs": [],
   "source": [
    "# No. Of People Died Due To Attack Year-Wise\n",
    "dataKill = df[['Year','kill']].groupby(['Year']).sum()\n",
    "fig, ax4 = plt.subplots(figsize=(20,10))\n",
    "dataKill.plot(kind='bar',alpha=0.7,ax=ax4)\n",
    "plt.xticks(rotation = 50)\n",
    "plt.title(\"People Died Due To Attack\",fontsize=25)\n",
    "plt.ylabel(\"Number of killed peope\",fontsize=20)\n",
    "plt.xlabel('Year',fontsize=20)\n",
    "top_side = ax4.spines[\"top\"]\n",
    "top_side.set_visible(False)\n",
    "right_side = ax4.spines[\"right\"]\n",
    "right_side.set_visible(False)"
   ]
  },
  {
   "cell_type": "markdown",
   "id": "17f93ca6",
   "metadata": {},
   "source": [
    "From the graph we can say that maximum number of people were killed in 2014, a lot more than 40,000."
   ]
  },
  {
   "cell_type": "code",
   "execution_count": null,
   "id": "36db582a",
   "metadata": {},
   "outputs": [],
   "source": [
    "# Number Of People Wounded VS Attack Type\n",
    "df[['Attacktype','Wound']].groupby([\"Attacktype\"],axis=0).sum().plot(kind='bar',figsize=(20,10),color=['cyan'])\n",
    "plt.xticks(rotation=50)\n",
    "plt.title(\"Number of wounded  \",fontsize=20)\n",
    "plt.ylabel('Number of people',fontsize=15)\n",
    "plt.xlabel('Attack type',fontsize=15)\n",
    "plt.show()"
   ]
  },
  {
   "cell_type": "markdown",
   "id": "e9f72216",
   "metadata": {},
   "source": [
    "We can say from the above plot that maximum number of people were wounded by Bombing/Explosion attacks."
   ]
  },
  {
   "cell_type": "code",
   "execution_count": null,
   "id": "664a6bae",
   "metadata": {},
   "outputs": [],
   "source": [
    "#Number of People Killed VS Attack Type\n",
    "df[['Attacktype','kill']].groupby([\"Attacktype\"],axis=0).sum().plot(kind='bar',figsize=(20,10),color=['darkslateblue'])\n",
    "plt.xticks(rotation=50)\n",
    "plt.title(\"Number of killed \",fontsize=20)\n",
    "plt.ylabel('Number of people',fontsize=15)\n",
    "plt.xlabel('Attack type',fontsize=15)\n",
    "plt.show()"
   ]
  },
  {
   "cell_type": "markdown",
   "id": "35d703f4",
   "metadata": {},
   "source": [
    "We can conclude that maximum number of people were killed by Armed Assault and Bombing/Explosion."
   ]
  },
  {
   "cell_type": "code",
   "execution_count": null,
   "id": "68340652",
   "metadata": {},
   "outputs": [],
   "source": [
    "#Name of Attack Type Vs Number Of Attacks\n",
    "df['Attacktype'].value_counts().plot(kind='bar',figsize=(20,10),color='magenta')\n",
    "plt.xticks(rotation = 50)\n",
    "plt.xlabel(\"Attacktype\",fontsize=15)\n",
    "plt.ylabel(\"Number of attack\",fontsize=15)\n",
    "plt.title(\"Name of attacktype\",fontsize=20)\n",
    "plt.show()"
   ]
  },
  {
   "cell_type": "markdown",
   "id": "85770cc6",
   "metadata": {},
   "source": [
    "From the above plot wecan say that maximum attacks were executed by Bombing/Explosion and minimum by Hijacking"
   ]
  },
  {
   "cell_type": "code",
   "execution_count": null,
   "id": "9de93f5c",
   "metadata": {},
   "outputs": [],
   "source": [
    "#Top 10 Most Affected Cities\n",
    "df['City'].value_counts().to_frame().sort_values('City',axis=0,ascending=False).head(10).plot(kind='bar',figsize=(20,10),color='blue')\n",
    "plt.xticks(rotation = 50)\n",
    "plt.xlabel(\"City\",fontsize=15)\n",
    "plt.ylabel(\"Number of attack\",fontsize=15)\n",
    "plt.title(\"Top 10 most effected city\",fontsize=20)\n",
    "plt.show()"
   ]
  },
  {
   "cell_type": "markdown",
   "id": "add56062",
   "metadata": {},
   "source": [
    "From the bar graph it's clearly evident that Baghdad is the most affected city."
   ]
  },
  {
   "cell_type": "code",
   "execution_count": null,
   "id": "914d8b46",
   "metadata": {},
   "outputs": [],
   "source": [
    "# Attacks per year based on Attack Type\n",
    "plt.subplots(figsize=(20,10))\n",
    "sns.countplot(df[\"Targettype\"],order=df['Targettype'].value_counts().index,palette=\"gist_heat\",edgecolor=sns.color_palette(\"mako\"));\n",
    "plt.xticks(rotation=90)\n",
    "plt.xlabel(\"Attacktype\",fontsize=15)\n",
    "plt.ylabel(\"count\",fontsize=15)\n",
    "plt.title(\"Attack per year\",fontsize=20)\n",
    "plt.show()"
   ]
  },
  {
   "cell_type": "markdown",
   "id": "069c28a2",
   "metadata": {},
   "source": [
    "From this bar graph we can clearly say that maximum attacks per year were made on Private Citizens and Properties"
   ]
  },
  {
   "cell_type": "code",
   "execution_count": null,
   "id": "126eb096",
   "metadata": {},
   "outputs": [],
   "source": [
    "#Top 10 Terrorist Group Attack\n",
    "df['Group'].value_counts().to_frame().drop('Unknown').head(10).plot(kind='bar',color='red',figsize=(20,10))\n",
    "plt.title(\"Top 10 terrorist group attack\",fontsize=20)\n",
    "plt.xlabel(\"terrorist group name\",fontsize=15)\n",
    "plt.ylabel(\"Attack number\",fontsize=15)\n",
    "plt.show()"
   ]
  },
  {
   "cell_type": "markdown",
   "id": "d225181d",
   "metadata": {},
   "source": [
    "We can conclude that the Taliban Terrorist Group attacked maximum number of times."
   ]
  },
  {
   "cell_type": "code",
   "execution_count": null,
   "id": "4657fca4",
   "metadata": {},
   "outputs": [],
   "source": [
    "# No. Of People Killed By Top 10 Terrorist Attacks\n",
    "df[['Group','kill']].groupby(['Group'],axis=0).sum().drop('Unknown').sort_values('kill',ascending=False).head(10).plot(kind='bar',color='brown',figsize=(20,10))\n",
    "plt.title(\"Top 10 terrorist group attack\",fontsize=20)\n",
    "plt.xlabel(\"terrorist group name\",fontsize=15)\n",
    "plt.ylabel(\"No of killed people\",fontsize=15)\n",
    "plt.show()"
   ]
  },
  {
   "cell_type": "markdown",
   "id": "041717dd",
   "metadata": {},
   "source": [
    "From the graph we can conclude that maximum number of people were killed by ISIL(Islamic State of Iraq and the Levant) Terrorist Group."
   ]
  },
  {
   "cell_type": "code",
   "execution_count": null,
   "id": "bc7b7c80",
   "metadata": {},
   "outputs": [],
   "source": [
    "data=df[['Group','Country','kill']]\n",
    "data=data.groupby(['Group','Country'],axis=0).sum().sort_values('kill',ascending=False).drop('Unknown').reset_index().head(10)\n",
    "data"
   ]
  },
  {
   "cell_type": "code",
   "execution_count": null,
   "id": "b6c1b1dc",
   "metadata": {},
   "outputs": [],
   "source": [
    "kill = df.loc[:,'kill']\n",
    "print('Number of people killed by terror attack:', int(sum(kill.dropna())))"
   ]
  },
  {
   "cell_type": "code",
   "execution_count": null,
   "id": "749970a5",
   "metadata": {},
   "outputs": [],
   "source": [
    "typeKill = df.pivot_table(columns='Attacktype', values='kill', aggfunc='sum')\n",
    "typeKill"
   ]
  },
  {
   "cell_type": "code",
   "execution_count": null,
   "id": "4a3949fe",
   "metadata": {
    "scrolled": true
   },
   "outputs": [],
   "source": [
    "countryKill = df.pivot_table(columns='Country', values='kill', aggfunc='sum')\n",
    "countryKill"
   ]
  },
  {
   "cell_type": "markdown",
   "id": "91ee3369",
   "metadata": {},
   "source": [
    "## Section 3: Conclusion and Results\n",
    "\n",
    "### Based on the exploratory data analysis (EDA) of the terrorism dataset, the following conclusions and results can be drawn:\n",
    "\n",
    "Country with the most attacks: **Iraq**\n",
    "\n",
    "Iraq has experienced the highest number of terrorist attacks.\n",
    "\n",
    "City with the most attacks: **Baghdad**\n",
    "\n",
    "Baghdad is the city that has witnessed the most terrorist incidents.\n",
    "\n",
    "\n",
    "Region with the most attacks: **Middle East & North Africa**\n",
    "\n",
    "The Middle East & North Africa region has been the hotbed of terrorism, recording the highest number of attacks.\n",
    "\n",
    "\n",
    "Year with the most attacks: **2014**\n",
    "\n",
    "The year 2014 had the highest number of recorded terrorist attacks.\n",
    "\n",
    "\n",
    "Month with the most attacks: **May**\n",
    "\n",
    "May was the month with the highest frequency of terrorist attacks.\n",
    "\n",
    "\n",
    "Group with the most attacks: **Taliban**\n",
    "\n",
    "The Taliban terrorist group has carried out the most attacks.\n",
    "\n",
    "\n",
    "Most Attack Types: **Bombing/Explosion**\n",
    "\n",
    "The most common type of attack used by terrorists is Bombing/Explosion.\n",
    "\n",
    "Additionally, some other insights from the analysis include:\n",
    "\n",
    "The dataset recorded a total of **411,868 people killed** due to terrorist attacks.\n",
    "\n",
    "**Armed Assault**, **Assassination**, and **Bombing/Explosion** are the most frequent types of attacks.\n",
    "\n",
    "When looking at countries, **Afghanistan** stands out with a **high number of attacks**, followed by **Iraq** and **Pakistan**.\n",
    "\n",
    "This EDA provides valuable insights into global terrorism trends, helping to understand the geographical and temporal patterns of terrorist activities and the methods used by terrorist groups."
   ]
  },
  {
   "cell_type": "code",
   "execution_count": null,
   "id": "bab8c8f7",
   "metadata": {},
   "outputs": [],
   "source": []
  }
 ],
 "metadata": {
  "kernelspec": {
   "display_name": "Python 3 (ipykernel)",
   "language": "python",
   "name": "python3"
  },
  "language_info": {
   "codemirror_mode": {
    "name": "ipython",
    "version": 3
   },
   "file_extension": ".py",
   "mimetype": "text/x-python",
   "name": "python",
   "nbconvert_exporter": "python",
   "pygments_lexer": "ipython3",
   "version": "3.9.12"
  }
 },
 "nbformat": 4,
 "nbformat_minor": 5
}
